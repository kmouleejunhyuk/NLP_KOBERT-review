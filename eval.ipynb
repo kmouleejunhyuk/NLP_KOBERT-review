{
  "nbformat": 4,
  "nbformat_minor": 0,
  "metadata": {
    "colab": {
      "name": "eval.ipynb",
      "provenance": [],
      "collapsed_sections": [],
      "include_colab_link": true
    },
    "kernelspec": {
      "name": "python3",
      "display_name": "Python 3"
    },
    "accelerator": "GPU"
  },
  "cells": [
    {
      "cell_type": "markdown",
      "metadata": {
        "id": "view-in-github",
        "colab_type": "text"
      },
      "source": [
        "<a href=\"https://colab.research.google.com/github/kmouleejunhyuk/NLP_KOBERT-review/blob/main/eval.ipynb\" target=\"_parent\"><img src=\"https://colab.research.google.com/assets/colab-badge.svg\" alt=\"Open In Colab\"/></a>"
      ]
    },
    {
      "cell_type": "code",
      "metadata": {
        "colab": {
          "base_uri": "https://localhost:8080/"
        },
        "id": "XqbyWN1zINcD",
        "outputId": "294adc8b-7d88-4a67-8546-975f9076b324"
      },
      "source": [
        "#구글 드라이브 마운트 & 경로설정\n",
        "from google.colab import drive\n",
        "drive.mount('/gdrive')"
      ],
      "execution_count": null,
      "outputs": [
        {
          "output_type": "stream",
          "text": [
            "Mounted at /gdrive\n"
          ],
          "name": "stdout"
        }
      ]
    },
    {
      "cell_type": "code",
      "metadata": {
        "colab": {
          "base_uri": "https://localhost:8080/"
        },
        "id": "0U3WYM1cc2VT",
        "outputId": "cabb4321-6177-4264-ec3f-ff907da95772"
      },
      "source": [
        "!nvidia-smi"
      ],
      "execution_count": null,
      "outputs": [
        {
          "output_type": "stream",
          "text": [
            "Sat Jan  2 16:11:56 2021       \n",
            "+-----------------------------------------------------------------------------+\n",
            "| NVIDIA-SMI 460.27.04    Driver Version: 418.67       CUDA Version: 10.1     |\n",
            "|-------------------------------+----------------------+----------------------+\n",
            "| GPU  Name        Persistence-M| Bus-Id        Disp.A | Volatile Uncorr. ECC |\n",
            "| Fan  Temp  Perf  Pwr:Usage/Cap|         Memory-Usage | GPU-Util  Compute M. |\n",
            "|                               |                      |               MIG M. |\n",
            "|===============================+======================+======================|\n",
            "|   0  Tesla V100-SXM2...  Off  | 00000000:00:04.0 Off |                    0 |\n",
            "| N/A   34C    P0    23W / 300W |      0MiB / 16130MiB |      0%      Default |\n",
            "|                               |                      |                 ERR! |\n",
            "+-------------------------------+----------------------+----------------------+\n",
            "                                                                               \n",
            "+-----------------------------------------------------------------------------+\n",
            "| Processes:                                                                  |\n",
            "|  GPU   GI   CI        PID   Type   Process name                  GPU Memory |\n",
            "|        ID   ID                                                   Usage      |\n",
            "|=============================================================================|\n",
            "|  No running processes found                                                 |\n",
            "+-----------------------------------------------------------------------------+\n"
          ],
          "name": "stdout"
        }
      ]
    },
    {
      "cell_type": "code",
      "metadata": {
        "id": "ijB7yTA9IQs1"
      },
      "source": [
        "#필요 라이브러리 설치\n",
        "!pip install mxnet-cu101 &> /dev/null\n",
        "!pip install gluonnlp &> /dev/null\n",
        "!pip install sentencepiece==0.1.85 &> /dev/null\n",
        "!pip install transformers==2.1.1 &> /dev/null\n",
        "\n",
        "#kobert 설치\n",
        "!pip install git+https://git@github.com/SKTBrain/KoBERT.git@master &> /dev/null"
      ],
      "execution_count": null,
      "outputs": []
    },
    {
      "cell_type": "code",
      "metadata": {
        "id": "qc830S8qBKVJ"
      },
      "source": [
        "#######라이브러리 버젼####### \r\n",
        "#mxnet-cu101: 1.7.0\r\n",
        "#gluonnlp: 0.10.0\r\n",
        "#pandas: 1.1.5\r\n",
        "#sentencepiece: 0.1.85\r\n",
        "#transformers: 2.1.1\r\n",
        "#torch: 1.7.0+cu101\r\n",
        "#numpy: 1.19.4\r\n",
        "\r\n",
        "\r\n",
        "#######개발 환경#######\r\n",
        "#google colab, python\r\n",
        "#런타임 가속기 유형: GPU, Tesla T4 이상의 gpu 메모리 요구"
      ],
      "execution_count": null,
      "outputs": []
    },
    {
      "cell_type": "markdown",
      "metadata": {
        "id": "4S691BkMIJH6"
      },
      "source": [
        "## **데이터 불러오기**"
      ]
    },
    {
      "cell_type": "code",
      "metadata": {
        "id": "WyKHqp8DIZTD"
      },
      "source": [
        "#판다스 로드\n",
        "import pandas as pd\n",
        "#데이터 경로(root_path는 재출 폴더가 들어있는 곳의 경로가 있으면 됩니다.)\n",
        "root_path='/gdrive/My Drive/'\n",
        "raw_test=pd.read_csv(root_path + 'torque/1.Data/news_test.csv', encoding = 'utf-8-sig')"
      ],
      "execution_count": null,
      "outputs": []
    },
    {
      "cell_type": "markdown",
      "metadata": {
        "id": "J7Yj3_rlISzK"
      },
      "source": [
        "## **시간 측정 시작**"
      ]
    },
    {
      "cell_type": "code",
      "metadata": {
        "id": "opFw_bBYXGjb"
      },
      "source": [
        "import time\r\n",
        "start=time.time()"
      ],
      "execution_count": null,
      "outputs": []
    },
    {
      "cell_type": "markdown",
      "metadata": {
        "id": "f0lcrC-aJveR"
      },
      "source": [
        "## **라이브러리 불러오기**"
      ]
    },
    {
      "cell_type": "code",
      "metadata": {
        "id": "Ux_SawNXR7aY"
      },
      "source": [
        "#모델 경로\r\n",
        "#사전에 train code(nh_origin)에서 모델 가중치 및 모델, vocab을 pickle을 사용해 파일로 만들어야 합니다.\r\n",
        "bertmodel_path = root_path+'torque/5.Model/bertmodel.dat'\r\n",
        "#tokenizer용 vocab 경로\r\n",
        "vocab_path = root_path+'torque/3.tokenizer/vocab.dat'\r\n",
        "#model 경로\r\n",
        "model_path = root_path+'torque/5.Model/model.pth'\r\n",
        "#submission 저장 경로\r\n",
        "save_path = root_path+'torque/submission.csv'"
      ],
      "execution_count": null,
      "outputs": []
    },
    {
      "cell_type": "code",
      "metadata": {
        "id": "xXgg0HI9QWjH"
      },
      "source": [
        "import numpy as np\r\n",
        "\r\n",
        "from torch import torch, nn\r\n",
        "from torch.utils.data import Dataset, DataLoader\r\n",
        "import gluonnlp as nlp\r\n",
        "\r\n",
        "from kobert.utils import get_tokenizer\r\n",
        "\r\n",
        "import html\r\n",
        "import pickle\r\n",
        "\r\n",
        "device = torch.device(\"cuda:0\")"
      ],
      "execution_count": null,
      "outputs": []
    },
    {
      "cell_type": "markdown",
      "metadata": {
        "id": "U7BJwGZ8J6Zi"
      },
      "source": [
        "## **pos_Tagger, Tokenizer, pretraind_embedding, Model 불러오기**"
      ]
    },
    {
      "cell_type": "code",
      "metadata": {
        "colab": {
          "base_uri": "https://localhost:8080/"
        },
        "id": "ysz6h0vGIarL",
        "outputId": "a1b54587-1a08-4a98-fb0c-81b800f93fbc"
      },
      "source": [
        "#pretrained model 불러오기\n",
        "with open(bertmodel_path, 'rb') as f:\n",
        "  bertmodel = pickle.load(f)\n",
        "#vocab file 불러오기\n",
        "with open(vocab_path, 'rb') as f:\n",
        "  vocab = pickle.load(f)\n",
        "#tokenizer 불러오기\n",
        "tokenizer = get_tokenizer()\n",
        "tok = nlp.data.BERTSPTokenizer(tokenizer, vocab, lower=False)"
      ],
      "execution_count": null,
      "outputs": [
        {
          "output_type": "stream",
          "text": [
            "\r[██████████████████████████████████████████████████]\n"
          ],
          "name": "stdout"
        }
      ]
    },
    {
      "cell_type": "code",
      "metadata": {
        "id": "G71AntWzM0uD"
      },
      "source": [
        "#kobert 분류기\n",
        "class BERTClassifier(nn.Module):\n",
        "    def __init__(self,\n",
        "                 bert,\n",
        "                 hidden_size = 768,\n",
        "                 num_classes=2,\n",
        "                 dr_rate=None,\n",
        "                 params=None):\n",
        "        super(BERTClassifier, self).__init__()\n",
        "        self.bert = bert\n",
        "        self.dr_rate = dr_rate\n",
        "                 \n",
        "        self.classifier = nn.Linear(hidden_size , num_classes)\n",
        "\n",
        "        if dr_rate:\n",
        "            self.dropout = nn.Dropout(p=dr_rate)\n",
        "    \n",
        "    def gen_attention_mask(self, token_ids, valid_length):\n",
        "        attention_mask = torch.zeros_like(token_ids)\n",
        "        for i, v in enumerate(valid_length):\n",
        "            attention_mask[i][:v] = 1\n",
        "        return attention_mask.float()\n",
        "\n",
        "    def forward(self, token_ids, valid_length, segment_ids):\n",
        "        attention_mask = self.gen_attention_mask(token_ids, valid_length)\n",
        "        \n",
        "        _, pooler = self.bert(input_ids = token_ids, token_type_ids = segment_ids.long(), attention_mask = attention_mask.float().to(token_ids.device))\n",
        "       \n",
        "        if self.dr_rate:\n",
        "            out = self.dropout(pooler)\n",
        "\n",
        "        return self.classifier(out)"
      ],
      "execution_count": null,
      "outputs": []
    },
    {
      "cell_type": "code",
      "metadata": {
        "colab": {
          "base_uri": "https://localhost:8080/"
        },
        "id": "2QS4w2_OKAMz",
        "outputId": "4d8fcf36-fcba-40cc-e0fb-8366c0f3ed15"
      },
      "source": [
        "#모델 선언\n",
        "model = BERTClassifier(bertmodel,  dr_rate=0.5).to(device)\n",
        "model.load_state_dict(torch.load(model_path))"
      ],
      "execution_count": null,
      "outputs": [
        {
          "output_type": "execute_result",
          "data": {
            "text/plain": [
              "<All keys matched successfully>"
            ]
          },
          "metadata": {
            "tags": []
          },
          "execution_count": 11
        }
      ]
    },
    {
      "cell_type": "markdown",
      "metadata": {
        "id": "suZPdlGVKLaJ"
      },
      "source": [
        "## **형태소 분석 + 전처리**"
      ]
    },
    {
      "cell_type": "code",
      "metadata": {
        "id": "9qL7uHnk9R-l"
      },
      "source": [
        "#학습에 사용될 데이터셋으로 변경하는 클래스\r\n",
        "class BERTDataset(Dataset):\r\n",
        "    def __init__(self, dataset, sent_idx, label_idx, bert_tokenizer, max_len, pad, pair):\r\n",
        "        transform = nlp.data.BERTSentenceTransform(\r\n",
        "            bert_tokenizer, max_seq_length=max_len, pad=pad, pair=pair)\r\n",
        "        \r\n",
        "        self.sentences = [transform([i[sent_idx]]) for i in dataset]\r\n",
        "        self.labels = [np.int32(i[label_idx]) for i in dataset]\r\n",
        "        \r\n",
        "\r\n",
        "    def __getitem__(self, i):\r\n",
        "        return (self.sentences[i] + (self.labels[i], ))\r\n",
        "\r\n",
        "    def __len__(self):\r\n",
        "        return (len(self.labels))"
      ],
      "execution_count": null,
      "outputs": []
    },
    {
      "cell_type": "code",
      "metadata": {
        "id": "fvv2tjXGKRap"
      },
      "source": [
        "#전처리\r\n",
        "max_len = 64\r\n",
        "batch_size = 512\r\n",
        "\r\n",
        "raw_test=raw_test.astype('string')\r\n",
        "raw_test['content']=raw_test['content']+'. '+raw_test['title']+'. '+raw_test['ord']\r\n",
        "\r\n",
        "submission=raw_test[['id']].copy()\r\n",
        "raw_test=raw_test[['content']].copy()\r\n",
        "\r\n",
        "raw_test['content']=np.vectorize(html.unescape)(raw_test['content'])\r\n",
        "raw_test['info']=0\r\n",
        "\r\n",
        "#to_dataloader\r\n",
        "data_test = BERTDataset(raw_test.values, 0, 1, tok, max_len, True, False)\r\n",
        "test_dataloader = torch.utils.data.DataLoader(data_test, batch_size=batch_size, num_workers=5)"
      ],
      "execution_count": null,
      "outputs": []
    },
    {
      "cell_type": "markdown",
      "metadata": {
        "id": "VvbeSglFKbjB"
      },
      "source": [
        "## **예측**"
      ]
    },
    {
      "cell_type": "code",
      "metadata": {
        "id": "655nR5ax1fhr"
      },
      "source": [
        "torch.backends.cudnn.deterministic = True\r\n",
        "torch.backends.cudnn.benchmark = False\r\n",
        "model.half()  # convert to half precision\r\n",
        "\r\n",
        "model.eval()\r\n",
        "with torch.no_grad():\r\n",
        "    answer=[]\r\n",
        "    for token_ids, valid_length, segment_ids, label in test_dataloader:\r\n",
        "        token_ids = token_ids.long().to(device)\r\n",
        "        segment_ids = segment_ids.long().to(device)\r\n",
        "        label = label.long().to(device)\r\n",
        "        out = model(token_ids, valid_length, segment_ids).detach()\r\n",
        "        tmp=torch.argmax(out, dim=1).tolist()\r\n",
        "        answer.extend(tmp)\r\n",
        "\r\n",
        "submission['info']=answer"
      ],
      "execution_count": null,
      "outputs": []
    },
    {
      "cell_type": "code",
      "metadata": {
        "colab": {
          "base_uri": "https://localhost:8080/"
        },
        "id": "3OlSCBlsAuQN",
        "outputId": "d74a30c2-7b1d-4ac7-ba98-15f46bf31bde"
      },
      "source": [
        "print(time.time()-start)"
      ],
      "execution_count": null,
      "outputs": [
        {
          "output_type": "stream",
          "text": [
            "127.24531888961792\n"
          ],
          "name": "stdout"
        }
      ]
    },
    {
      "cell_type": "code",
      "metadata": {
        "id": "NXmraXrjMZfC"
      },
      "source": [
        "submission.to_csv(save_path, encoding='utf-8', header=submission.columns, index=None, sep=',')"
      ],
      "execution_count": null,
      "outputs": []
    },
    {
      "cell_type": "markdown",
      "metadata": {
        "id": "NvgwPQHiSXCY"
      },
      "source": [
        "#### **고찰**"
      ]
    },
    {
      "cell_type": "code",
      "metadata": {
        "id": "461j2HO22qCP"
      },
      "source": [
        "#submission(leaderboard) 기준 93.38% accuracy 달성"
      ],
      "execution_count": null,
      "outputs": []
    }
  ]
}