{
  "nbformat": 4,
  "nbformat_minor": 0,
  "metadata": {
    "kernelspec": {
      "display_name": "Python 3",
      "language": "python",
      "name": "python3"
    },
    "language_info": {
      "codemirror_mode": {
        "name": "ipython",
        "version": 3
      },
      "file_extension": ".py",
      "mimetype": "text/x-python",
      "name": "python",
      "nbconvert_exporter": "python",
      "pygments_lexer": "ipython3",
      "version": "3.6.8"
    },
    "colab": {
      "name": "nh_origin.ipynb",
      "provenance": [],
      "collapsed_sections": [],
      "include_colab_link": true
    },
    "accelerator": "GPU",
    "widgets": {
      "application/vnd.jupyter.widget-state+json": {
        "306f48a56871479e98b4d25e295a6045": {
          "model_module": "@jupyter-widgets/controls",
          "model_name": "HBoxModel",
          "state": {
            "_view_name": "HBoxView",
            "_dom_classes": [],
            "_model_name": "HBoxModel",
            "_view_module": "@jupyter-widgets/controls",
            "_model_module_version": "1.5.0",
            "_view_count": null,
            "_view_module_version": "1.5.0",
            "box_style": "",
            "layout": "IPY_MODEL_0bf091ab99294064bd0a743e5a0fef69",
            "_model_module": "@jupyter-widgets/controls",
            "children": [
              "IPY_MODEL_e401629f878c431ca891c54a93ff898e",
              "IPY_MODEL_e003eea453834f49be837b7c58378fc7"
            ]
          }
        },
        "0bf091ab99294064bd0a743e5a0fef69": {
          "model_module": "@jupyter-widgets/base",
          "model_name": "LayoutModel",
          "state": {
            "_view_name": "LayoutView",
            "grid_template_rows": null,
            "right": null,
            "justify_content": null,
            "_view_module": "@jupyter-widgets/base",
            "overflow": null,
            "_model_module_version": "1.2.0",
            "_view_count": null,
            "flex_flow": null,
            "width": null,
            "min_width": null,
            "border": null,
            "align_items": null,
            "bottom": null,
            "_model_module": "@jupyter-widgets/base",
            "top": null,
            "grid_column": null,
            "overflow_y": null,
            "overflow_x": null,
            "grid_auto_flow": null,
            "grid_area": null,
            "grid_template_columns": null,
            "flex": null,
            "_model_name": "LayoutModel",
            "justify_items": null,
            "grid_row": null,
            "max_height": null,
            "align_content": null,
            "visibility": null,
            "align_self": null,
            "height": null,
            "min_height": null,
            "padding": null,
            "grid_auto_rows": null,
            "grid_gap": null,
            "max_width": null,
            "order": null,
            "_view_module_version": "1.2.0",
            "grid_template_areas": null,
            "object_position": null,
            "object_fit": null,
            "grid_auto_columns": null,
            "margin": null,
            "display": null,
            "left": null
          }
        },
        "e401629f878c431ca891c54a93ff898e": {
          "model_module": "@jupyter-widgets/controls",
          "model_name": "FloatProgressModel",
          "state": {
            "_view_name": "ProgressView",
            "style": "IPY_MODEL_de1a8cb12e5e483f9d5d3ba61a2dcabe",
            "_dom_classes": [],
            "description": "100%",
            "_model_name": "FloatProgressModel",
            "bar_style": "success",
            "max": 925,
            "_view_module": "@jupyter-widgets/controls",
            "_model_module_version": "1.5.0",
            "value": 925,
            "_view_count": null,
            "_view_module_version": "1.5.0",
            "orientation": "horizontal",
            "min": 0,
            "description_tooltip": null,
            "_model_module": "@jupyter-widgets/controls",
            "layout": "IPY_MODEL_7b21abc25b7f47ec8da089037bb7facb"
          }
        },
        "e003eea453834f49be837b7c58378fc7": {
          "model_module": "@jupyter-widgets/controls",
          "model_name": "HTMLModel",
          "state": {
            "_view_name": "HTMLView",
            "style": "IPY_MODEL_c97aa958617b4492bf98181e58e38852",
            "_dom_classes": [],
            "description": "",
            "_model_name": "HTMLModel",
            "placeholder": "​",
            "_view_module": "@jupyter-widgets/controls",
            "_model_module_version": "1.5.0",
            "value": " 925/925 [47:38&lt;00:00,  3.09s/it]",
            "_view_count": null,
            "_view_module_version": "1.5.0",
            "description_tooltip": null,
            "_model_module": "@jupyter-widgets/controls",
            "layout": "IPY_MODEL_7e4b69b1fbfe4074a6534c45e71f601f"
          }
        },
        "de1a8cb12e5e483f9d5d3ba61a2dcabe": {
          "model_module": "@jupyter-widgets/controls",
          "model_name": "ProgressStyleModel",
          "state": {
            "_view_name": "StyleView",
            "_model_name": "ProgressStyleModel",
            "description_width": "initial",
            "_view_module": "@jupyter-widgets/base",
            "_model_module_version": "1.5.0",
            "_view_count": null,
            "_view_module_version": "1.2.0",
            "bar_color": null,
            "_model_module": "@jupyter-widgets/controls"
          }
        },
        "7b21abc25b7f47ec8da089037bb7facb": {
          "model_module": "@jupyter-widgets/base",
          "model_name": "LayoutModel",
          "state": {
            "_view_name": "LayoutView",
            "grid_template_rows": null,
            "right": null,
            "justify_content": null,
            "_view_module": "@jupyter-widgets/base",
            "overflow": null,
            "_model_module_version": "1.2.0",
            "_view_count": null,
            "flex_flow": null,
            "width": null,
            "min_width": null,
            "border": null,
            "align_items": null,
            "bottom": null,
            "_model_module": "@jupyter-widgets/base",
            "top": null,
            "grid_column": null,
            "overflow_y": null,
            "overflow_x": null,
            "grid_auto_flow": null,
            "grid_area": null,
            "grid_template_columns": null,
            "flex": null,
            "_model_name": "LayoutModel",
            "justify_items": null,
            "grid_row": null,
            "max_height": null,
            "align_content": null,
            "visibility": null,
            "align_self": null,
            "height": null,
            "min_height": null,
            "padding": null,
            "grid_auto_rows": null,
            "grid_gap": null,
            "max_width": null,
            "order": null,
            "_view_module_version": "1.2.0",
            "grid_template_areas": null,
            "object_position": null,
            "object_fit": null,
            "grid_auto_columns": null,
            "margin": null,
            "display": null,
            "left": null
          }
        },
        "c97aa958617b4492bf98181e58e38852": {
          "model_module": "@jupyter-widgets/controls",
          "model_name": "DescriptionStyleModel",
          "state": {
            "_view_name": "StyleView",
            "_model_name": "DescriptionStyleModel",
            "description_width": "",
            "_view_module": "@jupyter-widgets/base",
            "_model_module_version": "1.5.0",
            "_view_count": null,
            "_view_module_version": "1.2.0",
            "_model_module": "@jupyter-widgets/controls"
          }
        },
        "7e4b69b1fbfe4074a6534c45e71f601f": {
          "model_module": "@jupyter-widgets/base",
          "model_name": "LayoutModel",
          "state": {
            "_view_name": "LayoutView",
            "grid_template_rows": null,
            "right": null,
            "justify_content": null,
            "_view_module": "@jupyter-widgets/base",
            "overflow": null,
            "_model_module_version": "1.2.0",
            "_view_count": null,
            "flex_flow": null,
            "width": null,
            "min_width": null,
            "border": null,
            "align_items": null,
            "bottom": null,
            "_model_module": "@jupyter-widgets/base",
            "top": null,
            "grid_column": null,
            "overflow_y": null,
            "overflow_x": null,
            "grid_auto_flow": null,
            "grid_area": null,
            "grid_template_columns": null,
            "flex": null,
            "_model_name": "LayoutModel",
            "justify_items": null,
            "grid_row": null,
            "max_height": null,
            "align_content": null,
            "visibility": null,
            "align_self": null,
            "height": null,
            "min_height": null,
            "padding": null,
            "grid_auto_rows": null,
            "grid_gap": null,
            "max_width": null,
            "order": null,
            "_view_module_version": "1.2.0",
            "grid_template_areas": null,
            "object_position": null,
            "object_fit": null,
            "grid_auto_columns": null,
            "margin": null,
            "display": null,
            "left": null
          }
        },
        "c1f3af2061ee4b35b81b2b03e0abbe04": {
          "model_module": "@jupyter-widgets/controls",
          "model_name": "HBoxModel",
          "state": {
            "_view_name": "HBoxView",
            "_dom_classes": [],
            "_model_name": "HBoxModel",
            "_view_module": "@jupyter-widgets/controls",
            "_model_module_version": "1.5.0",
            "_view_count": null,
            "_view_module_version": "1.5.0",
            "box_style": "",
            "layout": "IPY_MODEL_00dbcf23a45a42b1a3b0a3347c872417",
            "_model_module": "@jupyter-widgets/controls",
            "children": [
              "IPY_MODEL_db2ea18dfd95472bb559e31e92ba71c1",
              "IPY_MODEL_0d5db190ab284f61a00b8bdd257ea987"
            ]
          }
        },
        "00dbcf23a45a42b1a3b0a3347c872417": {
          "model_module": "@jupyter-widgets/base",
          "model_name": "LayoutModel",
          "state": {
            "_view_name": "LayoutView",
            "grid_template_rows": null,
            "right": null,
            "justify_content": null,
            "_view_module": "@jupyter-widgets/base",
            "overflow": null,
            "_model_module_version": "1.2.0",
            "_view_count": null,
            "flex_flow": null,
            "width": null,
            "min_width": null,
            "border": null,
            "align_items": null,
            "bottom": null,
            "_model_module": "@jupyter-widgets/base",
            "top": null,
            "grid_column": null,
            "overflow_y": null,
            "overflow_x": null,
            "grid_auto_flow": null,
            "grid_area": null,
            "grid_template_columns": null,
            "flex": null,
            "_model_name": "LayoutModel",
            "justify_items": null,
            "grid_row": null,
            "max_height": null,
            "align_content": null,
            "visibility": null,
            "align_self": null,
            "height": null,
            "min_height": null,
            "padding": null,
            "grid_auto_rows": null,
            "grid_gap": null,
            "max_width": null,
            "order": null,
            "_view_module_version": "1.2.0",
            "grid_template_areas": null,
            "object_position": null,
            "object_fit": null,
            "grid_auto_columns": null,
            "margin": null,
            "display": null,
            "left": null
          }
        },
        "db2ea18dfd95472bb559e31e92ba71c1": {
          "model_module": "@jupyter-widgets/controls",
          "model_name": "FloatProgressModel",
          "state": {
            "_view_name": "ProgressView",
            "style": "IPY_MODEL_d39c370bc11141b593c674f51178c068",
            "_dom_classes": [],
            "description": "100%",
            "_model_name": "FloatProgressModel",
            "bar_style": "success",
            "max": 925,
            "_view_module": "@jupyter-widgets/controls",
            "_model_module_version": "1.5.0",
            "value": 925,
            "_view_count": null,
            "_view_module_version": "1.5.0",
            "orientation": "horizontal",
            "min": 0,
            "description_tooltip": null,
            "_model_module": "@jupyter-widgets/controls",
            "layout": "IPY_MODEL_fb5c778867ab42438037dc8c4ba2c1c2"
          }
        },
        "0d5db190ab284f61a00b8bdd257ea987": {
          "model_module": "@jupyter-widgets/controls",
          "model_name": "HTMLModel",
          "state": {
            "_view_name": "HTMLView",
            "style": "IPY_MODEL_9c0b28c524a945adad47251fbbee701e",
            "_dom_classes": [],
            "description": "",
            "_model_name": "HTMLModel",
            "placeholder": "​",
            "_view_module": "@jupyter-widgets/controls",
            "_model_module_version": "1.5.0",
            "value": " 925/925 [23:41&lt;00:00,  1.54s/it]",
            "_view_count": null,
            "_view_module_version": "1.5.0",
            "description_tooltip": null,
            "_model_module": "@jupyter-widgets/controls",
            "layout": "IPY_MODEL_9eb8846e5b1f4983a38fe121e49dc1ff"
          }
        },
        "d39c370bc11141b593c674f51178c068": {
          "model_module": "@jupyter-widgets/controls",
          "model_name": "ProgressStyleModel",
          "state": {
            "_view_name": "StyleView",
            "_model_name": "ProgressStyleModel",
            "description_width": "initial",
            "_view_module": "@jupyter-widgets/base",
            "_model_module_version": "1.5.0",
            "_view_count": null,
            "_view_module_version": "1.2.0",
            "bar_color": null,
            "_model_module": "@jupyter-widgets/controls"
          }
        },
        "fb5c778867ab42438037dc8c4ba2c1c2": {
          "model_module": "@jupyter-widgets/base",
          "model_name": "LayoutModel",
          "state": {
            "_view_name": "LayoutView",
            "grid_template_rows": null,
            "right": null,
            "justify_content": null,
            "_view_module": "@jupyter-widgets/base",
            "overflow": null,
            "_model_module_version": "1.2.0",
            "_view_count": null,
            "flex_flow": null,
            "width": null,
            "min_width": null,
            "border": null,
            "align_items": null,
            "bottom": null,
            "_model_module": "@jupyter-widgets/base",
            "top": null,
            "grid_column": null,
            "overflow_y": null,
            "overflow_x": null,
            "grid_auto_flow": null,
            "grid_area": null,
            "grid_template_columns": null,
            "flex": null,
            "_model_name": "LayoutModel",
            "justify_items": null,
            "grid_row": null,
            "max_height": null,
            "align_content": null,
            "visibility": null,
            "align_self": null,
            "height": null,
            "min_height": null,
            "padding": null,
            "grid_auto_rows": null,
            "grid_gap": null,
            "max_width": null,
            "order": null,
            "_view_module_version": "1.2.0",
            "grid_template_areas": null,
            "object_position": null,
            "object_fit": null,
            "grid_auto_columns": null,
            "margin": null,
            "display": null,
            "left": null
          }
        },
        "9c0b28c524a945adad47251fbbee701e": {
          "model_module": "@jupyter-widgets/controls",
          "model_name": "DescriptionStyleModel",
          "state": {
            "_view_name": "StyleView",
            "_model_name": "DescriptionStyleModel",
            "description_width": "",
            "_view_module": "@jupyter-widgets/base",
            "_model_module_version": "1.5.0",
            "_view_count": null,
            "_view_module_version": "1.2.0",
            "_model_module": "@jupyter-widgets/controls"
          }
        },
        "9eb8846e5b1f4983a38fe121e49dc1ff": {
          "model_module": "@jupyter-widgets/base",
          "model_name": "LayoutModel",
          "state": {
            "_view_name": "LayoutView",
            "grid_template_rows": null,
            "right": null,
            "justify_content": null,
            "_view_module": "@jupyter-widgets/base",
            "overflow": null,
            "_model_module_version": "1.2.0",
            "_view_count": null,
            "flex_flow": null,
            "width": null,
            "min_width": null,
            "border": null,
            "align_items": null,
            "bottom": null,
            "_model_module": "@jupyter-widgets/base",
            "top": null,
            "grid_column": null,
            "overflow_y": null,
            "overflow_x": null,
            "grid_auto_flow": null,
            "grid_area": null,
            "grid_template_columns": null,
            "flex": null,
            "_model_name": "LayoutModel",
            "justify_items": null,
            "grid_row": null,
            "max_height": null,
            "align_content": null,
            "visibility": null,
            "align_self": null,
            "height": null,
            "min_height": null,
            "padding": null,
            "grid_auto_rows": null,
            "grid_gap": null,
            "max_width": null,
            "order": null,
            "_view_module_version": "1.2.0",
            "grid_template_areas": null,
            "object_position": null,
            "object_fit": null,
            "grid_auto_columns": null,
            "margin": null,
            "display": null,
            "left": null
          }
        },
        "aae99d7c758941c6b6e9d44746dc63e1": {
          "model_module": "@jupyter-widgets/controls",
          "model_name": "HBoxModel",
          "state": {
            "_view_name": "HBoxView",
            "_dom_classes": [],
            "_model_name": "HBoxModel",
            "_view_module": "@jupyter-widgets/controls",
            "_model_module_version": "1.5.0",
            "_view_count": null,
            "_view_module_version": "1.5.0",
            "box_style": "",
            "layout": "IPY_MODEL_95e74c89da834c8c9d0882e5ee2972e7",
            "_model_module": "@jupyter-widgets/controls",
            "children": [
              "IPY_MODEL_d79adf74b7f746239acdfeff4dad53f4",
              "IPY_MODEL_590e6831e1d64b1aac32ad74b011f952"
            ]
          }
        },
        "95e74c89da834c8c9d0882e5ee2972e7": {
          "model_module": "@jupyter-widgets/base",
          "model_name": "LayoutModel",
          "state": {
            "_view_name": "LayoutView",
            "grid_template_rows": null,
            "right": null,
            "justify_content": null,
            "_view_module": "@jupyter-widgets/base",
            "overflow": null,
            "_model_module_version": "1.2.0",
            "_view_count": null,
            "flex_flow": null,
            "width": null,
            "min_width": null,
            "border": null,
            "align_items": null,
            "bottom": null,
            "_model_module": "@jupyter-widgets/base",
            "top": null,
            "grid_column": null,
            "overflow_y": null,
            "overflow_x": null,
            "grid_auto_flow": null,
            "grid_area": null,
            "grid_template_columns": null,
            "flex": null,
            "_model_name": "LayoutModel",
            "justify_items": null,
            "grid_row": null,
            "max_height": null,
            "align_content": null,
            "visibility": null,
            "align_self": null,
            "height": null,
            "min_height": null,
            "padding": null,
            "grid_auto_rows": null,
            "grid_gap": null,
            "max_width": null,
            "order": null,
            "_view_module_version": "1.2.0",
            "grid_template_areas": null,
            "object_position": null,
            "object_fit": null,
            "grid_auto_columns": null,
            "margin": null,
            "display": null,
            "left": null
          }
        },
        "d79adf74b7f746239acdfeff4dad53f4": {
          "model_module": "@jupyter-widgets/controls",
          "model_name": "FloatProgressModel",
          "state": {
            "_view_name": "ProgressView",
            "style": "IPY_MODEL_82ff698922d54fad9f8ddd6ff18c486e",
            "_dom_classes": [],
            "description": "100%",
            "_model_name": "FloatProgressModel",
            "bar_style": "success",
            "max": 1114,
            "_view_module": "@jupyter-widgets/controls",
            "_model_module_version": "1.5.0",
            "value": 1114,
            "_view_count": null,
            "_view_module_version": "1.5.0",
            "orientation": "horizontal",
            "min": 0,
            "description_tooltip": null,
            "_model_module": "@jupyter-widgets/controls",
            "layout": "IPY_MODEL_b7ed4dfe588b47c5b6c31a85e8765ce2"
          }
        },
        "590e6831e1d64b1aac32ad74b011f952": {
          "model_module": "@jupyter-widgets/controls",
          "model_name": "HTMLModel",
          "state": {
            "_view_name": "HTMLView",
            "style": "IPY_MODEL_5ce3a56ddcbe4d548bdb655dd5b89820",
            "_dom_classes": [],
            "description": "",
            "_model_name": "HTMLModel",
            "placeholder": "​",
            "_view_module": "@jupyter-widgets/controls",
            "_model_module_version": "1.5.0",
            "value": " 1114/1114 [09:46&lt;00:00,  1.90it/s]",
            "_view_count": null,
            "_view_module_version": "1.5.0",
            "description_tooltip": null,
            "_model_module": "@jupyter-widgets/controls",
            "layout": "IPY_MODEL_aafa1029901c432d9ef9023a9e855261"
          }
        },
        "82ff698922d54fad9f8ddd6ff18c486e": {
          "model_module": "@jupyter-widgets/controls",
          "model_name": "ProgressStyleModel",
          "state": {
            "_view_name": "StyleView",
            "_model_name": "ProgressStyleModel",
            "description_width": "initial",
            "_view_module": "@jupyter-widgets/base",
            "_model_module_version": "1.5.0",
            "_view_count": null,
            "_view_module_version": "1.2.0",
            "bar_color": null,
            "_model_module": "@jupyter-widgets/controls"
          }
        },
        "b7ed4dfe588b47c5b6c31a85e8765ce2": {
          "model_module": "@jupyter-widgets/base",
          "model_name": "LayoutModel",
          "state": {
            "_view_name": "LayoutView",
            "grid_template_rows": null,
            "right": null,
            "justify_content": null,
            "_view_module": "@jupyter-widgets/base",
            "overflow": null,
            "_model_module_version": "1.2.0",
            "_view_count": null,
            "flex_flow": null,
            "width": null,
            "min_width": null,
            "border": null,
            "align_items": null,
            "bottom": null,
            "_model_module": "@jupyter-widgets/base",
            "top": null,
            "grid_column": null,
            "overflow_y": null,
            "overflow_x": null,
            "grid_auto_flow": null,
            "grid_area": null,
            "grid_template_columns": null,
            "flex": null,
            "_model_name": "LayoutModel",
            "justify_items": null,
            "grid_row": null,
            "max_height": null,
            "align_content": null,
            "visibility": null,
            "align_self": null,
            "height": null,
            "min_height": null,
            "padding": null,
            "grid_auto_rows": null,
            "grid_gap": null,
            "max_width": null,
            "order": null,
            "_view_module_version": "1.2.0",
            "grid_template_areas": null,
            "object_position": null,
            "object_fit": null,
            "grid_auto_columns": null,
            "margin": null,
            "display": null,
            "left": null
          }
        },
        "5ce3a56ddcbe4d548bdb655dd5b89820": {
          "model_module": "@jupyter-widgets/controls",
          "model_name": "DescriptionStyleModel",
          "state": {
            "_view_name": "StyleView",
            "_model_name": "DescriptionStyleModel",
            "description_width": "",
            "_view_module": "@jupyter-widgets/base",
            "_model_module_version": "1.5.0",
            "_view_count": null,
            "_view_module_version": "1.2.0",
            "_model_module": "@jupyter-widgets/controls"
          }
        },
        "aafa1029901c432d9ef9023a9e855261": {
          "model_module": "@jupyter-widgets/base",
          "model_name": "LayoutModel",
          "state": {
            "_view_name": "LayoutView",
            "grid_template_rows": null,
            "right": null,
            "justify_content": null,
            "_view_module": "@jupyter-widgets/base",
            "overflow": null,
            "_model_module_version": "1.2.0",
            "_view_count": null,
            "flex_flow": null,
            "width": null,
            "min_width": null,
            "border": null,
            "align_items": null,
            "bottom": null,
            "_model_module": "@jupyter-widgets/base",
            "top": null,
            "grid_column": null,
            "overflow_y": null,
            "overflow_x": null,
            "grid_auto_flow": null,
            "grid_area": null,
            "grid_template_columns": null,
            "flex": null,
            "_model_name": "LayoutModel",
            "justify_items": null,
            "grid_row": null,
            "max_height": null,
            "align_content": null,
            "visibility": null,
            "align_self": null,
            "height": null,
            "min_height": null,
            "padding": null,
            "grid_auto_rows": null,
            "grid_gap": null,
            "max_width": null,
            "order": null,
            "_view_module_version": "1.2.0",
            "grid_template_areas": null,
            "object_position": null,
            "object_fit": null,
            "grid_auto_columns": null,
            "margin": null,
            "display": null,
            "left": null
          }
        }
      }
    }
  },
  "cells": [
    {
      "cell_type": "markdown",
      "metadata": {
        "id": "view-in-github",
        "colab_type": "text"
      },
      "source": [
        "<a href=\"https://colab.research.google.com/github/kmouleejunhyuk/NLP_KOBERT-review/blob/main/nh_origin.ipynb\" target=\"_parent\"><img src=\"https://colab.research.google.com/assets/colab-badge.svg\" alt=\"Open In Colab\"/></a>"
      ]
    },
    {
      "cell_type": "code",
      "metadata": {
        "id": "MpcGJPxtrPHq"
      },
      "source": [
        ""
      ],
      "execution_count": null,
      "outputs": []
    },
    {
      "cell_type": "code",
      "metadata": {
        "id": "wwiR-QZCGwXi"
      },
      "source": [
        "#트라이할 것: no duplicate treatment, ord\n",
        "#max: n=3, dr 0.5, lr 5e-5, 중복제거, content_title_ord\n",
        "#현샅태: \n",
        "status='html_128'"
      ],
      "execution_count": null,
      "outputs": []
    },
    {
      "cell_type": "code",
      "metadata": {
        "id": "THxrproaSFG-"
      },
      "source": [
        "#######라이브러리 버젼#######\n",
        "#mxnet-cu101: 1.7.0\n",
        "#gluonnlp: 0.10.0\n",
        "#pandas: 1.1.4\n",
        "#tqdm: 4.53.0??\n",
        "#sentencepiece: 0.1.85\n",
        "#transformers: 2.1.1\n",
        "#torch: 1.3.1\n",
        "#numpy: 1.18.5\n",
        "#kobert: 0.1.1\n",
        "\n",
        "#######개발 환경#######\n",
        "#google colab, python\n",
        "#런타임 가속기 유형: GPU, Tesla T4 or p100 사용, Tesla P4나 k80에서는 메모리 문제로 OOM 에러 발생"
      ],
      "execution_count": null,
      "outputs": []
    },
    {
      "cell_type": "code",
      "metadata": {
        "colab": {
          "base_uri": "https://localhost:8080/"
        },
        "id": "JGn6KN6ATVEB",
        "outputId": "910402af-7349-40e6-8703-79bda5824ad8"
      },
      "source": [
        "!nvidia-smi"
      ],
      "execution_count": null,
      "outputs": [
        {
          "output_type": "stream",
          "text": [
            "Sun Dec 20 12:05:22 2020       \n",
            "+-----------------------------------------------------------------------------+\n",
            "| NVIDIA-SMI 455.45.01    Driver Version: 418.67       CUDA Version: 10.1     |\n",
            "|-------------------------------+----------------------+----------------------+\n",
            "| GPU  Name        Persistence-M| Bus-Id        Disp.A | Volatile Uncorr. ECC |\n",
            "| Fan  Temp  Perf  Pwr:Usage/Cap|         Memory-Usage | GPU-Util  Compute M. |\n",
            "|                               |                      |               MIG M. |\n",
            "|===============================+======================+======================|\n",
            "|   0  Tesla T4            Off  | 00000000:00:04.0 Off |                    0 |\n",
            "| N/A   70C    P8    12W /  70W |      0MiB / 15079MiB |      0%      Default |\n",
            "|                               |                      |                 ERR! |\n",
            "+-------------------------------+----------------------+----------------------+\n",
            "                                                                               \n",
            "+-----------------------------------------------------------------------------+\n",
            "| Processes:                                                                  |\n",
            "|  GPU   GI   CI        PID   Type   Process name                  GPU Memory |\n",
            "|        ID   ID                                                   Usage      |\n",
            "|=============================================================================|\n",
            "|  No running processes found                                                 |\n",
            "+-----------------------------------------------------------------------------+\n"
          ],
          "name": "stdout"
        }
      ]
    },
    {
      "cell_type": "code",
      "metadata": {
        "id": "scUi77tAx30s",
        "colab": {
          "base_uri": "https://localhost:8080/"
        },
        "outputId": "c862a31b-1c1d-4327-ae85-354d1d0f7fa6"
      },
      "source": [
        "#구글 드라이브 마운트 & 경로설정\n",
        "from google.colab import drive\n",
        "drive.mount('/gdrive')\n",
        "\n",
        "PATH='/gdrive/My Drive/TRAIN'"
      ],
      "execution_count": null,
      "outputs": [
        {
          "output_type": "stream",
          "text": [
            "Mounted at /gdrive\n"
          ],
          "name": "stdout"
        }
      ]
    },
    {
      "cell_type": "code",
      "metadata": {
        "id": "F2i0duYyx30r"
      },
      "source": [
        "#필요 라이브러리 설치\n",
        "!pip install mxnet-cu101 &> /dev/null\n",
        "!pip install gluonnlp pandas tqdm &> /dev/null\n",
        "!pip install sentencepiece==0.1.85 &> /dev/null\n",
        "!pip install transformers==2.1.1 &> /dev/null\n",
        "!pip install torch==1.3.1 &> /dev/null\n",
        "\n",
        "#kobert 설치\n",
        "!pip install git+https://git@github.com/SKTBrain/KoBERT.git@master &> /dev/null"
      ],
      "execution_count": null,
      "outputs": []
    },
    {
      "cell_type": "code",
      "metadata": {
        "id": "DekaEPoxx30r"
      },
      "source": [
        "#라이브러리 로드\n",
        "import pandas as pd\n",
        "import numpy as np\n",
        "from os import path\n",
        "from shutil import copy\n",
        "\n",
        "import torch\n",
        "from torch import nn\n",
        "import torch.nn.functional as F\n",
        "import torch.optim as optim\n",
        "from torch.utils.data import Dataset, DataLoader\n",
        "import gluonnlp as nlp\n",
        "import numpy as np\n",
        "from tqdm import tqdm, tqdm_notebook\n",
        "import random\n",
        "import time\n",
        "\n",
        "from kobert.utils import get_tokenizer\n",
        "from kobert.pytorch_kobert import get_pytorch_kobert_model\n",
        "\n",
        "from transformers import AdamW\n",
        "from transformers.optimization import WarmupLinearSchedule\n",
        "\n",
        "import html"
      ],
      "execution_count": null,
      "outputs": []
    },
    {
      "cell_type": "code",
      "metadata": {
        "id": "hR2LFBiNC1xf"
      },
      "source": [
        "#seed \n",
        "random_seed=44159   #44159\n",
        "torch.manual_seed(random_seed)\n",
        "torch.backends.cudnn.deterministic = True\n",
        "torch.backends.cudnn.benchmark = False\n",
        "np.random.seed(random_seed)\n",
        "random.seed(random_seed)"
      ],
      "execution_count": null,
      "outputs": []
    },
    {
      "cell_type": "code",
      "metadata": {
        "id": "BpfXFF11x30r"
      },
      "source": [
        "##GPU 사용 시\n",
        "device = torch.device(\"cuda:0\")"
      ],
      "execution_count": null,
      "outputs": []
    },
    {
      "cell_type": "code",
      "metadata": {
        "id": "-UYI2YRNx30r",
        "colab": {
          "base_uri": "https://localhost:8080/"
        },
        "outputId": "9cc746c2-1d5b-4498-ea09-6d335045f0dc"
      },
      "source": [
        "bertmodel, vocab = get_pytorch_kobert_model()"
      ],
      "execution_count": null,
      "outputs": [
        {
          "output_type": "stream",
          "text": [
            "[██████████████████████████████████████████████████]\n",
            "[██████████████████████████████████████████████████]\n"
          ],
          "name": "stdout"
        }
      ]
    },
    {
      "cell_type": "code",
      "metadata": {
        "id": "Lygd3mH2ylJU"
      },
      "source": [
        "#train, test dataset 로드\n",
        "raw_train= pd.read_table(path.join(PATH, 'news_train.csv'), sep=',').astype('string')\n",
        "raw_test=pd.read_table(path.join(PATH, 'news_test.csv'), sep=',').astype('string')\n",
        "#print(raw_train.columns)\n",
        "#print(raw_test.columns)"
      ],
      "execution_count": null,
      "outputs": []
    },
    {
      "cell_type": "code",
      "metadata": {
        "colab": {
          "base_uri": "https://localhost:8080/"
        },
        "id": "GA3haIhvylH5",
        "outputId": "dcdfd09f-1958-44ab-d89f-d58c2dba46fa"
      },
      "source": [
        "import re\n",
        "q='2020년 한국 TV 2대중 1대 인터넷 연결된다._//_ 아미코젠, 52주 신고가_//_ 3 '\n",
        "\n",
        "def replacer(input: str, label_dic: dict):\n",
        "    for key, value in label_dic.items():\n",
        "        input=input.replace(key, value)\n",
        "    return input\n",
        "\n",
        "def multi_re(input: str):\n",
        "    #input=replacer(input, {'獨': '독일 ', '伊': '이탈리아 ', '佛': '프랑스 ', \n",
        "    #                       '日': '일본 ', '韓': '한국 ','中': '중국 ' ,'美': '미국 ',\n",
        "    #                       '北': '북한 ','露': '러시아', '英':'영국', '印': '인도',\n",
        "    #                       '女':'여', '男':'남', \n",
        "    #                       '前':'전 ', '族': '족','現': '현 ', '比': '비 ', '發':'발 ', '兆': '조',\n",
        "    #                       '檢': '검찰','警': '경찰','軍':'군','靑':'청와대 ', '法': '법원', '銀':'은행',\n",
        "    #                       '上':'상','下':'하', \n",
        "    #                       '金': '김', '李':'이', '朴':'박', '文':'문 '\n",
        "    #                       })\n",
        "    #%:,./();#+ \n",
        "    #input=re.sub(\"[^ㄱ-ㅎㅏ-ㅣ가-힣a-zA-Z0-9%:,./();#+ ]\", ' ',input)\n",
        "    #input=re.sub(\" +\", ' ',input)\n",
        "    #input=re.sub(r'[\\.]+(?=[\\.])', '',input)\n",
        "    #input=input.replace('._//_', '.')\n",
        "    #input=input.replace('_//_', '.')\n",
        "    input = html.unescape(input)\n",
        "\n",
        "    return str(input)\n",
        "\n",
        "print(multi_re(q))"
      ],
      "execution_count": null,
      "outputs": [
        {
          "output_type": "stream",
          "text": [
            "2020년 한국 TV 2대중 1대 인터넷 연결된다._//_ 아미코젠, 52주 신고가_//_ 3 \n"
          ],
          "name": "stdout"
        }
      ]
    },
    {
      "cell_type": "code",
      "metadata": {
        "colab": {
          "base_uri": "https://localhost:8080/"
        },
        "id": "x_brmy9JkPyA",
        "outputId": "72b82c76-1b6c-49e1-86ee-844643b6f271"
      },
      "source": [
        "print(raw_test['content'].head())\n",
        "print(raw_test['title'].head())\n"
      ],
      "execution_count": null,
      "outputs": [
        {
          "output_type": "stream",
          "text": [
            "0     마이크로 LED TV 장비 양산 돌입- 전방업체 투자 확대로 본업도 호조연일 '신고가'\n",
            "1    [이데일리 김대웅 기자] 반도체 장비 업체 코세스(089890)의 기술력이 마이크로...\n",
            "2    최근 대형 업체들과 거래를 맺고 관련 장비들의 양산에 돌입하면서 주가도 연일 신고가...\n",
            "3    TV를 필두로 올해부터 마이크로 LED의 시대가 본격적으로 개화할 것으로 예상되면서...\n",
            "4    코세스는 반도체 장비를 제조, 판매하는 업체로 지난 2006년 11월 코스닥 시장에...\n",
            "Name: content, dtype: string\n",
            "0    [주목!e스몰캡]코세스, 마이크로LED 시장 개화 최대수혜 기대\n",
            "1    [주목!e스몰캡]코세스, 마이크로LED 시장 개화 최대수혜 기대\n",
            "2    [주목!e스몰캡]코세스, 마이크로LED 시장 개화 최대수혜 기대\n",
            "3    [주목!e스몰캡]코세스, 마이크로LED 시장 개화 최대수혜 기대\n",
            "4    [주목!e스몰캡]코세스, 마이크로LED 시장 개화 최대수혜 기대\n",
            "Name: title, dtype: string\n"
          ],
          "name": "stdout"
        }
      ]
    },
    {
      "cell_type": "code",
      "metadata": {
        "id": "TUnLy8quua6U"
      },
      "source": [
        "#아노말리 제거\r\n",
        "anomally=raw_train.copy()\r\n",
        "anomally['content']=anomally['content']+anomally['title']\r\n",
        "anomally=anomally.drop(['title', 'date'], axis=1)\r\n",
        "\r\n",
        "anomally=anomally[anomally.duplicated(subset='content', keep=False)]\r\n",
        "anomally['content']=anomally['content']+'_'+anomally['info']\r\n",
        "anomally=anomally[~anomally.duplicated(subset='content', keep=False)].sort_values(by='content')\r\n",
        "\r\n",
        "anomally['id']=anomally['n_id']+'_'+anomally['ord']\r\n",
        "anomally=anomally[['id']]"
      ],
      "execution_count": null,
      "outputs": []
    },
    {
      "cell_type": "code",
      "metadata": {
        "id": "2UzaX-qTUF-S"
      },
      "source": [
        "###train data 전처리###\n",
        "\n",
        "#아노말리 제거\n",
        "raw_train['id']=raw_train['n_id']+'_'+raw_train['ord']\n",
        "raw_train=raw_train[~raw_train['id'].isin(anomally['id'])]\n",
        "print('anomally: ', raw_train.shape)\n",
        "\n",
        "#셔플\n",
        "raw_train=raw_train.sample(frac=1, random_state=random_seed).reset_index(drop=True)\n",
        "\n",
        "#제목과 컨텐츠 \n",
        "raw_train['content']=raw_train['content']+'. '+raw_train['title']+'. '+raw_train['ord']\n",
        "raw_test['content']=raw_test['content']+'. '+raw_test['title']+'. '+raw_test['ord']\n"
      ],
      "execution_count": null,
      "outputs": []
    },
    {
      "cell_type": "code",
      "metadata": {
        "id": "RlrGlCKbkw2x",
        "colab": {
          "base_uri": "https://localhost:8080/"
        },
        "outputId": "4a44e2b3-6335-4572-97a5-b9ce51b4e252"
      },
      "source": [
        "#한글, 영문, 숫자, 구두점 외 특수문자 공백으로 대체\n",
        "raw_train['content']=raw_train.apply(lambda row : multi_re(row['content']), axis = 1) \n",
        "\n",
        "# 여러 컬럼 중 content, info만 추출\n",
        "full_train=raw_train[['content', \"info\"]]\n",
        "print(full_train.shape)\n",
        "#중복 제거\n",
        "full_train.drop_duplicates(subset=['content'], inplace=True)\n",
        "print(full_train.shape)"
      ],
      "execution_count": null,
      "outputs": [
        {
          "output_type": "stream",
          "text": [
            "(118745, 2)\n",
            "(118334, 2)\n"
          ],
          "name": "stdout"
        },
        {
          "output_type": "stream",
          "text": [
            "/usr/local/lib/python3.6/dist-packages/ipykernel_launcher.py:8: SettingWithCopyWarning: \n",
            "A value is trying to be set on a copy of a slice from a DataFrame\n",
            "\n",
            "See the caveats in the documentation: https://pandas.pydata.org/pandas-docs/stable/user_guide/indexing.html#returning-a-view-versus-a-copy\n",
            "  \n"
          ],
          "name": "stderr"
        }
      ]
    },
    {
      "cell_type": "code",
      "metadata": {
        "colab": {
          "base_uri": "https://localhost:8080/"
        },
        "id": "77mTCZVrE0rm",
        "outputId": "127f4705-b968-450c-828a-16c4b9ba8b26"
      },
      "source": [
        "raw_train.content"
      ],
      "execution_count": null,
      "outputs": [
        {
          "output_type": "execute_result",
          "data": {
            "text/plain": [
              "0         무순위 청약이다보니 만 19세 이상의 수도권 거주자라면 누구나 가능하다. \"3년 전...\n",
              "1            응찰액 : 0.00조원. 한은 7차 이어 8차 시장안정용 무제한 RP매입 없음. 3\n",
              "2         \"주식카톡방\" 대박주를 추천받는데 100원도 안낸다~. ‘하남시 시민안전보험에 관한...\n",
              "3         기간 무제한. 이용료 0원, 주식카톡방 1천 3백명. 닫히기직전, 지금 바로 입장....\n",
              "4         25일 펀드 스퀘어에 따르면, NH아문디자산운용의 NH-Amundi필승코리아증권투자...\n",
              "                                ...                        \n",
              "118740    이베스트투자증권은 CJ CGV에 대해 신종 코로나바이러스 감염증(코로나19) 영향으...\n",
              "118741    참조가격 : 호가제출직전의 단일가격으로 시가 결정 전에는 당일 기준가격이, 시가 결...\n",
              "118742    지난 2017년 시작된 사업은 시 청사 및 공공기간과 학교, 민간분야가 활용하는 다...\n",
              "118743    종합 경제정보 미디어 이데일리 - 무단전재 & 재배포 금지. 수도권 교육감 3명, ...\n",
              "118744    10%수익을 40%로 만들어 준다고.. 영웅스탁론이라면 가능~.효과적인 레버리지를 ...\n",
              "Name: content, Length: 118745, dtype: object"
            ]
          },
          "metadata": {
            "tags": []
          },
          "execution_count": 15
        }
      ]
    },
    {
      "cell_type": "code",
      "metadata": {
        "colab": {
          "base_uri": "https://localhost:8080/"
        },
        "id": "Gv62ArCGIxHM",
        "outputId": "f85d81f5-f9b1-4deb-da0f-e19f3645c3dc"
      },
      "source": [
        "print(raw_train.shape)"
      ],
      "execution_count": null,
      "outputs": [
        {
          "output_type": "stream",
          "text": [
            "(118745, 6)\n"
          ],
          "name": "stdout"
        }
      ]
    },
    {
      "cell_type": "code",
      "metadata": {
        "colab": {
          "base_uri": "https://localhost:8080/"
        },
        "id": "AEGQsMFHjkKa",
        "outputId": "b5b1d158-a8af-4e8e-ff4a-834fe188a432"
      },
      "source": [
        "#train 데이터셋\n",
        "row, _=full_train.shape\n",
        "train=full_train    #.iloc[0:int(row*0.8)]\n",
        "#valid=full_train.iloc[int(row*0.8):]\n",
        "test=raw_test[['id', 'content']]\n",
        "\n",
        "print('train shape: ', train.shape)\n",
        "#print('valid shape: ', valid.shape)\n",
        "print('test shape: ', test.shape)"
      ],
      "execution_count": null,
      "outputs": [
        {
          "output_type": "stream",
          "text": [
            "train shape:  (118334, 2)\n",
            "test shape:  (142565, 2)\n"
          ],
          "name": "stdout"
        }
      ]
    },
    {
      "cell_type": "code",
      "metadata": {
        "colab": {
          "base_uri": "https://localhost:8080/"
        },
        "id": "YUZqgARtF3iP",
        "outputId": "f1e63f86-10fe-4da6-d177-fcef0af1fd48"
      },
      "source": [
        "###test 데이터셋 전처리###\n",
        "\n",
        "#특수문자 제거\n",
        "test['content']=test.apply(lambda row : multi_re(row['content']), axis = 1) \n",
        "\n",
        "#임시로 레이블 고정\n",
        "test['info']='0'\n",
        "#content, info 추출\n",
        "test=test[['content', 'info']]"
      ],
      "execution_count": null,
      "outputs": [
        {
          "output_type": "stream",
          "text": [
            "/usr/local/lib/python3.6/dist-packages/ipykernel_launcher.py:4: SettingWithCopyWarning: \n",
            "A value is trying to be set on a copy of a slice from a DataFrame.\n",
            "Try using .loc[row_indexer,col_indexer] = value instead\n",
            "\n",
            "See the caveats in the documentation: https://pandas.pydata.org/pandas-docs/stable/user_guide/indexing.html#returning-a-view-versus-a-copy\n",
            "  after removing the cwd from sys.path.\n",
            "/usr/local/lib/python3.6/dist-packages/ipykernel_launcher.py:7: SettingWithCopyWarning: \n",
            "A value is trying to be set on a copy of a slice from a DataFrame.\n",
            "Try using .loc[row_indexer,col_indexer] = value instead\n",
            "\n",
            "See the caveats in the documentation: https://pandas.pydata.org/pandas-docs/stable/user_guide/indexing.html#returning-a-view-versus-a-copy\n",
            "  import sys\n"
          ],
          "name": "stderr"
        }
      ]
    },
    {
      "cell_type": "code",
      "metadata": {
        "id": "3dZjG_oA5vW8",
        "colab": {
          "base_uri": "https://localhost:8080/"
        },
        "outputId": "08c4c0ec-1953-4b74-8500-1663ec845d9c"
      },
      "source": [
        "#데이터셋을 array로 변경 및 마지막 데이터셋 확인\n",
        "dataset_train=train.values\n",
        "#dataset_valid=valid.values\n",
        "dataset_test=test.values\n",
        "\n",
        "print('train dataset: ', dataset_train[-1])\n",
        "#print('valid dataset: ', dataset_valid[-1])\n",
        "print('test dataset: ', dataset_test[-1])"
      ],
      "execution_count": null,
      "outputs": [
        {
          "output_type": "stream",
          "text": [
            "train dataset:  ['10%수익을 40%로 만들어 준다고.. 영웅스탁론이라면 가능~.효과적인 레버리지를 이용하여 수익률을 4배로... [김영상의 오지랖] “정치풍자, 섹드립 훌훌 다 벗고…” 한때 팬으로서의 자니윤 추모. 381'\n",
            " '1']\n",
            "test dataset:  ['2020년 한국 TV 2대중 1대 인터넷 연결된다. 아미코젠, 52주 신고가. 76' '0']\n"
          ],
          "name": "stdout"
        }
      ]
    },
    {
      "cell_type": "code",
      "metadata": {
        "id": "S6yUS0W2ZaTB",
        "colab": {
          "base_uri": "https://localhost:8080/"
        },
        "outputId": "b1d699a7-ff11-47d6-c071-2f00687fcc2c"
      },
      "source": [
        "#데이터 분포 확인???????????????\n",
        "#실험실\n",
        "print('over_0: ', len([x for x in raw_train.values if x[2]==0]))\n",
        "print('over_1: ', len([x for x in raw_train.values if x[2]==1]))\n",
        "\n",
        "t=[[i, v]for i , v in enumerate(dataset_train) if str(v[1]).isdigit()==False]\n",
        "print(t)\n",
        "print('maxlen: ', max([(len(x[0]), idx) for idx, x in enumerate(train.values)]))\n",
        "raw_train=raw_train[['date', 'ord', 'info']].astype('int')\n",
        "print(raw_train.corr(method='pearson'))"
      ],
      "execution_count": null,
      "outputs": [
        {
          "output_type": "stream",
          "text": [
            "over_0:  0\n",
            "over_1:  0\n",
            "[]\n",
            "maxlen:  (3494, 73967)\n",
            "          date       ord      info\n",
            "date  1.000000  0.012890  0.028591\n",
            "ord   0.012890  1.000000  0.124056\n",
            "info  0.028591  0.124056  1.000000\n"
          ],
          "name": "stdout"
        }
      ]
    },
    {
      "cell_type": "code",
      "metadata": {
        "id": "yW7PAYFox30s",
        "colab": {
          "base_uri": "https://localhost:8080/"
        },
        "outputId": "a99bf38a-185c-4d78-d6ed-292f353fdda3"
      },
      "source": [
        "#토크나이저 로드\n",
        "tokenizer = get_tokenizer()\n",
        "tok = nlp.data.BERTSPTokenizer(tokenizer, vocab, lower=False)"
      ],
      "execution_count": null,
      "outputs": [
        {
          "output_type": "stream",
          "text": [
            "using cached model\n"
          ],
          "name": "stdout"
        }
      ]
    },
    {
      "cell_type": "code",
      "metadata": {
        "id": "3CqSjFM0x30s"
      },
      "source": [
        "#학습에 사용될 데이터셋으로 변경하는 클래스\n",
        "class BERTDataset(Dataset):\n",
        "    def __init__(self, dataset, sent_idx, label_idx, bert_tokenizer, max_len, pad, pair):\n",
        "        transform = nlp.data.BERTSentenceTransform(\n",
        "            bert_tokenizer, max_seq_length=max_len, pad=pad, pair=pair)\n",
        "\n",
        "        self.sentences = [transform([i[sent_idx]]) for i in dataset]\n",
        "        self.labels = [np.int32(i[label_idx]) for i in dataset]\n",
        "        \n",
        "\n",
        "    def __getitem__(self, i):\n",
        "        return (self.sentences[i] + (self.labels[i], ))\n",
        "\n",
        "    def __len__(self):\n",
        "        return (len(self.labels))\n"
      ],
      "execution_count": null,
      "outputs": []
    },
    {
      "cell_type": "code",
      "metadata": {
        "id": "RcM6nhvzx30s"
      },
      "source": [
        "#학습 파라미터 설정\n",
        "max_len = 64\n",
        "batch_size = 128\n",
        "warmup_ratio = 0.1\n",
        "num_epochs = 2\n",
        "max_grad_norm = 1\n",
        "log_interval = 200\n",
        "learning_rate =  5e-5"
      ],
      "execution_count": null,
      "outputs": []
    },
    {
      "cell_type": "code",
      "metadata": {
        "id": "dTyyV9xox30s",
        "colab": {
          "base_uri": "https://localhost:8080/"
        },
        "outputId": "1703a3b4-4a2b-40a4-9b98-abec70f3100b"
      },
      "source": [
        "#데이터셋 변경 & 확인\n",
        "data_train = BERTDataset(dataset_train, 0, 1, tok, max_len, True, False)\n",
        "#data_valid = BERTDataset(dataset_valid, 0, 1, tok, max_len, True, False)\n",
        "data_test = BERTDataset(dataset_test, 0, 1, tok, max_len, True, False)\n",
        "\n",
        "print('train: ', data_train.sentences[-1])\n",
        "#print('valid: ', data_valid.sentences[-1])\n",
        "print('test: ', data_test.sentences[-1])"
      ],
      "execution_count": null,
      "outputs": [
        {
          "output_type": "stream",
          "text": [
            "train:  (array([   2,  533,  517,   11, 2899,  606,  517,   11,  517, 6079, 1943,\n",
            "       4248, 5439,  517,   54,  517,   54, 3376, 7017, 6664, 7589, 6084,\n",
            "       7096, 6009,  737,  517,  463,  517,   54, 5173, 7119, 1884, 6324,\n",
            "       7329, 3726, 7815, 2897, 7088,  605, 6312, 6079,  517,   54,  517,\n",
            "         54,  517,   54,  702, 1326, 6527, 7095, 3417, 7318,    0,  517,\n",
            "        363,  714, 4122, 7750, 7147,  517,   46,  517,    3], dtype=int32), array(64, dtype=int32), array([0, 0, 0, 0, 0, 0, 0, 0, 0, 0, 0, 0, 0, 0, 0, 0, 0, 0, 0, 0, 0, 0,\n",
            "       0, 0, 0, 0, 0, 0, 0, 0, 0, 0, 0, 0, 0, 0, 0, 0, 0, 0, 0, 0, 0, 0,\n",
            "       0, 0, 0, 0, 0, 0, 0, 0, 0, 0, 0, 0, 0, 0, 0, 0, 0, 0, 0, 0],\n",
            "      dtype=int32))\n",
            "test:  (array([   2,  554,  127, 5712, 4958,  694,  553, 5808, 7295,  529, 5808,\n",
            "       3794, 3334, 5900,  517,   54, 3093, 6255, 7533, 7241,  517,   46,\n",
            "        517,  180, 7276, 3012, 5330,  517,   54,  517,  215,    3,    1,\n",
            "          1,    1,    1,    1,    1,    1,    1,    1,    1,    1,    1,\n",
            "          1,    1,    1,    1,    1,    1,    1,    1,    1,    1,    1,\n",
            "          1,    1,    1,    1,    1,    1,    1,    1,    1], dtype=int32), array(32, dtype=int32), array([0, 0, 0, 0, 0, 0, 0, 0, 0, 0, 0, 0, 0, 0, 0, 0, 0, 0, 0, 0, 0, 0,\n",
            "       0, 0, 0, 0, 0, 0, 0, 0, 0, 0, 0, 0, 0, 0, 0, 0, 0, 0, 0, 0, 0, 0,\n",
            "       0, 0, 0, 0, 0, 0, 0, 0, 0, 0, 0, 0, 0, 0, 0, 0, 0, 0, 0, 0],\n",
            "      dtype=int32))\n"
          ],
          "name": "stdout"
        }
      ]
    },
    {
      "cell_type": "code",
      "metadata": {
        "id": "xFqY3vV4x30s"
      },
      "source": [
        "#torch dataloader로 변경\n",
        "train_dataloader = torch.utils.data.DataLoader(data_train, batch_size=batch_size, num_workers=5)\n",
        "#valid_dataloader = torch.utils.data.DataLoader(data_valid, batch_size=batch_size, num_workers=5)\n",
        "test_dataloader = torch.utils.data.DataLoader(data_test, batch_size=batch_size, num_workers=5)"
      ],
      "execution_count": null,
      "outputs": []
    },
    {
      "cell_type": "code",
      "metadata": {
        "id": "h5eAfNahx30s"
      },
      "source": [
        "#kobert 분류기\n",
        "class BERTClassifier(nn.Module):\n",
        "    def __init__(self,\n",
        "                 bert,\n",
        "                 hidden_size = 768,\n",
        "                 num_classes=2,\n",
        "                 dr_rate=None,\n",
        "                 params=None):\n",
        "        super(BERTClassifier, self).__init__()\n",
        "        self.bert = bert\n",
        "        self.dr_rate = dr_rate\n",
        "                 \n",
        "        self.classifier = nn.Linear(hidden_size , num_classes)\n",
        "\n",
        "        if dr_rate:\n",
        "            self.dropout = nn.Dropout(p=dr_rate)\n",
        "    \n",
        "    def gen_attention_mask(self, token_ids, valid_length):\n",
        "        attention_mask = torch.zeros_like(token_ids)\n",
        "        for i, v in enumerate(valid_length):\n",
        "            attention_mask[i][:v] = 1\n",
        "        return attention_mask.float()\n",
        "\n",
        "    def forward(self, token_ids, valid_length, segment_ids):\n",
        "        attention_mask = self.gen_attention_mask(token_ids, valid_length)\n",
        "        \n",
        "        _, pooler = self.bert(input_ids = token_ids, token_type_ids = segment_ids.long(), attention_mask = attention_mask.float().to(token_ids.device))\n",
        "       \n",
        "        if self.dr_rate:\n",
        "            out = self.dropout(pooler)\n",
        "\n",
        "        return self.classifier(out)"
      ],
      "execution_count": null,
      "outputs": []
    },
    {
      "cell_type": "code",
      "metadata": {
        "id": "1fvF-VmQx30s"
      },
      "source": [
        "#모델 선언\n",
        "model = BERTClassifier(bertmodel,  dr_rate=0.5).to(device)"
      ],
      "execution_count": null,
      "outputs": []
    },
    {
      "cell_type": "code",
      "metadata": {
        "id": "Hyl7sj01x30s"
      },
      "source": [
        "# Prepare optimizer and schedule (linear warmup and decay)\n",
        "no_decay = ['bias', 'LayerNorm.weight']\n",
        "optimizer_grouped_parameters = [\n",
        "    {'params': [p for n, p in model.named_parameters() if not any(nd in n for nd in no_decay)], 'weight_decay': 0.01},\n",
        "    {'params': [p for n, p in model.named_parameters() if any(nd in n for nd in no_decay)], 'weight_decay': 0.0}\n",
        "]\n",
        "\n",
        "optimizer = AdamW(optimizer_grouped_parameters, lr=learning_rate)\n",
        "loss_fn = nn.CrossEntropyLoss()\n",
        "\n",
        "t_total = len(train_dataloader) * num_epochs\n",
        "warmup_step = int(t_total * warmup_ratio)\n",
        "\n",
        "scheduler = WarmupLinearSchedule(optimizer, warmup_steps=warmup_step, t_total=t_total)"
      ],
      "execution_count": null,
      "outputs": []
    },
    {
      "cell_type": "code",
      "metadata": {
        "id": "zuoQwuhLx30s"
      },
      "source": [
        "#accuracy 계산 함수\n",
        "def calc_accuracy(X,Y):\n",
        "    max_vals, max_indices = torch.max(X, 1)\n",
        "    train_acc = (max_indices == Y).sum().data.cpu().numpy()/max_indices.size()[0]\n",
        "    return train_acc"
      ],
      "execution_count": null,
      "outputs": []
    },
    {
      "cell_type": "code",
      "metadata": {
        "id": "RdanBhjcx30s",
        "colab": {
          "base_uri": "https://localhost:8080/",
          "height": 491,
          "referenced_widgets": [
            "306f48a56871479e98b4d25e295a6045",
            "0bf091ab99294064bd0a743e5a0fef69",
            "e401629f878c431ca891c54a93ff898e",
            "e003eea453834f49be837b7c58378fc7",
            "de1a8cb12e5e483f9d5d3ba61a2dcabe",
            "7b21abc25b7f47ec8da089037bb7facb",
            "c97aa958617b4492bf98181e58e38852",
            "7e4b69b1fbfe4074a6534c45e71f601f",
            "c1f3af2061ee4b35b81b2b03e0abbe04",
            "00dbcf23a45a42b1a3b0a3347c872417",
            "db2ea18dfd95472bb559e31e92ba71c1",
            "0d5db190ab284f61a00b8bdd257ea987",
            "d39c370bc11141b593c674f51178c068",
            "fb5c778867ab42438037dc8c4ba2c1c2",
            "9c0b28c524a945adad47251fbbee701e",
            "9eb8846e5b1f4983a38fe121e49dc1ff",
            "aae99d7c758941c6b6e9d44746dc63e1",
            "95e74c89da834c8c9d0882e5ee2972e7",
            "d79adf74b7f746239acdfeff4dad53f4",
            "590e6831e1d64b1aac32ad74b011f952",
            "82ff698922d54fad9f8ddd6ff18c486e",
            "b7ed4dfe588b47c5b6c31a85e8765ce2",
            "5ce3a56ddcbe4d548bdb655dd5b89820",
            "aafa1029901c432d9ef9023a9e855261"
          ]
        },
        "outputId": "4b6097f7-13b7-4f7a-92cb-8c2e644bb890"
      },
      "source": [
        "#이후 모델 파일명 및 submission에 사용하기 위한 변수 선언\n",
        "answer=[]\n",
        "acc=0\n",
        "#starttime=0\n",
        "#학습 시작\n",
        "for e in range(num_epochs):\n",
        "    train_acc = 0.0\n",
        "    #valid_acc = 0.0\n",
        "    model.train()\n",
        "    for batch_id, (token_ids, valid_length, segment_ids, label) in enumerate(tqdm_notebook(train_dataloader)):\n",
        "        optimizer.zero_grad()\n",
        "        token_ids = token_ids.long().to(device)\n",
        "        segment_ids = segment_ids.long().to(device)\n",
        "        valid_length= valid_length\n",
        "        label = label.long().to(device)\n",
        "        out = model(token_ids, valid_length, segment_ids)\n",
        "        loss = loss_fn(out, label)\n",
        "        loss.backward()\n",
        "        torch.nn.utils.clip_grad_norm_(model.parameters(), max_grad_norm)\n",
        "        optimizer.step()\n",
        "        scheduler.step()  \n",
        "        train_acc += calc_accuracy(out, label)\n",
        "        if batch_id % log_interval == 0:\n",
        "            print(\"epoch {} batch id {} loss {} train acc {}\".format(e+1, batch_id+1, loss.data.cpu().numpy(), train_acc / (batch_id+1)))\n",
        "    print(\"epoch {} train acc {}\".format(e+1, train_acc / (batch_id+1)))\n",
        "    #model.eval()\n",
        "    #for batch_id, (token_ids, valid_length, segment_ids, label) in enumerate(tqdm_notebook(valid_dataloader)):\n",
        "    #    token_ids = token_ids.long().to(device)\n",
        "    #    segment_ids = segment_ids.long().to(device)\n",
        "    #    valid_length= valid_length\n",
        "    #    label = label.long().to(device)\n",
        "    #    out = model(token_ids, valid_length, segment_ids)\n",
        "    #    valid_acc += calc_accuracy(out, label)\n",
        "    #print(\"epoch {} valid acc {}\".format(e+1, valid_acc / (batch_id+1)))\n",
        "\n",
        "    if e==num_epochs-1:      \n",
        "        with torch.no_grad():\n",
        "            #학습이 끝나면 submission할 결과 생성\n",
        "            #starttime=time.time()\n",
        "            print('training ended. making submission file')\n",
        "            #acc=valid_acc / (batch_id+1)\n",
        "            acc='0.0000'\n",
        "            model.eval()\n",
        "            for batch_id, (token_ids, valid_length, segment_ids, label) in enumerate(tqdm_notebook(test_dataloader)):\n",
        "                token_ids = token_ids.long().to(device)\n",
        "                segment_ids = segment_ids.long().to(device)\n",
        "                valid_length= valid_length\n",
        "                label = label.long().to(device)\n",
        "                out = model(token_ids, valid_length, segment_ids)\n",
        "                out=out.cpu()\n",
        "                tmp=[torch.argmax(i) for i in out]\n",
        "                answer=answer+tmp"
      ],
      "execution_count": null,
      "outputs": [
        {
          "output_type": "stream",
          "text": [
            "/usr/local/lib/python3.6/dist-packages/ipykernel_launcher.py:10: TqdmDeprecationWarning: This function will be removed in tqdm==5.0.0\n",
            "Please use `tqdm.notebook.tqdm` instead of `tqdm.tqdm_notebook`\n",
            "  # Remove the CWD from sys.path while we load stuff.\n"
          ],
          "name": "stderr"
        },
        {
          "output_type": "display_data",
          "data": {
            "application/vnd.jupyter.widget-view+json": {
              "model_id": "306f48a56871479e98b4d25e295a6045",
              "version_minor": 0,
              "version_major": 2
            },
            "text/plain": [
              "HBox(children=(FloatProgress(value=0.0, max=925.0), HTML(value='')))"
            ]
          },
          "metadata": {
            "tags": []
          }
        },
        {
          "output_type": "stream",
          "text": [
            "epoch 1 batch id 1 loss 0.7714811563491821 train acc 0.421875\n",
            "epoch 1 batch id 201 loss 0.03220372274518013 train acc 0.8880597014925373\n",
            "epoch 1 batch id 401 loss 0.03941165655851364 train acc 0.9381429239401496\n",
            "epoch 1 batch id 601 loss 0.003201201558113098 train acc 0.956101809484193\n",
            "epoch 1 batch id 801 loss 0.017920460551977158 train acc 0.9655898876404494\n",
            "\n",
            "epoch 1 train acc 0.9696362794245859\n"
          ],
          "name": "stdout"
        },
        {
          "output_type": "display_data",
          "data": {
            "application/vnd.jupyter.widget-view+json": {
              "model_id": "c1f3af2061ee4b35b81b2b03e0abbe04",
              "version_minor": 0,
              "version_major": 2
            },
            "text/plain": [
              "HBox(children=(FloatProgress(value=0.0, max=925.0), HTML(value='')))"
            ]
          },
          "metadata": {
            "tags": []
          }
        },
        {
          "output_type": "stream",
          "text": [
            "epoch 2 batch id 1 loss 0.001751502975821495 train acc 1.0\n",
            "epoch 2 batch id 201 loss 0.0009749671444296837 train acc 0.9970071517412935\n",
            "epoch 2 batch id 401 loss 0.0002194531261920929 train acc 0.9976036471321695\n",
            "epoch 2 batch id 601 loss 0.0008754367008805275 train acc 0.9979331322795341\n",
            "epoch 2 batch id 801 loss 0.0008714944124221802 train acc 0.998185861423221\n",
            "\n",
            "epoch 2 train acc 0.9983699324324324\n",
            "training ended. making submission file\n"
          ],
          "name": "stdout"
        },
        {
          "output_type": "stream",
          "text": [
            "/usr/local/lib/python3.6/dist-packages/ipykernel_launcher.py:44: TqdmDeprecationWarning: This function will be removed in tqdm==5.0.0\n",
            "Please use `tqdm.notebook.tqdm` instead of `tqdm.tqdm_notebook`\n"
          ],
          "name": "stderr"
        },
        {
          "output_type": "display_data",
          "data": {
            "application/vnd.jupyter.widget-view+json": {
              "model_id": "aae99d7c758941c6b6e9d44746dc63e1",
              "version_minor": 0,
              "version_major": 2
            },
            "text/plain": [
              "HBox(children=(FloatProgress(value=0.0, max=1114.0), HTML(value='')))"
            ]
          },
          "metadata": {
            "tags": []
          }
        },
        {
          "output_type": "stream",
          "text": [
            "\n"
          ],
          "name": "stdout"
        }
      ]
    },
    {
      "cell_type": "code",
      "metadata": {
        "id": "Hnffg4SgraeM"
      },
      "source": [
        "#valid acc에 따라 모델 이름 변경 & 저장\n",
        "import os\n",
        "acc=str(acc).replace('.', \"\")[1:5]\n",
        "\n",
        "folder_path = '/gdrive/My Drive/models/kobert_{}_{}'.format(acc, status)\n",
        "file_path=folder_path+'/model.pth'\n",
        "if not os.path.isdir(folder_path): os.mkdir(folder_path)\n",
        "\n",
        "torch.save(model.state_dict(), file_path)"
      ],
      "execution_count": null,
      "outputs": []
    },
    {
      "cell_type": "code",
      "metadata": {
        "id": "apBF1fnRUYTp",
        "colab": {
          "base_uri": "https://localhost:8080/"
        },
        "outputId": "dece293b-96e5-448f-dcd0-3172a95c0ec9"
      },
      "source": [
        "#test id와 분류 결과 병합\n",
        "info=pd.Series(np.array(answer), name='info')\n",
        "id=raw_test[\"id\"]\n",
        "submission=pd.DataFrame(pd.concat([id, info], axis=1))\n",
        "\n",
        "print(submission.head())\n",
        "print('submission shape: ', submission.shape)"
      ],
      "execution_count": null,
      "outputs": [
        {
          "output_type": "stream",
          "text": [
            "            id  info\n",
            "0  NEWS00237_1     0\n",
            "1  NEWS00237_2     0\n",
            "2  NEWS00237_3     0\n",
            "3  NEWS00237_4     0\n",
            "4  NEWS00237_5     0\n",
            "submission shape:  (142565, 2)\n"
          ],
          "name": "stdout"
        }
      ]
    },
    {
      "cell_type": "code",
      "metadata": {
        "id": "wQX9T0fWiEzq"
      },
      "source": [
        "#제출 파일 저장\n",
        "submission.to_csv(path.join(folder_path, 'submission.csv'), encoding='utf-8', header=['id', 'info'], index=None, sep=',')\n",
        "#코드 백업\n",
        "#copy(path.join('/gdrive/My Drive/Colab Notebooks/', 'naver_review_classifications_pytorch_kobert.ipynb'), folder_path)"
      ],
      "execution_count": null,
      "outputs": []
    },
    {
      "cell_type": "code",
      "metadata": {
        "id": "2EaWpST3Sh4M"
      },
      "source": [
        ""
      ],
      "execution_count": null,
      "outputs": []
    }
  ]
}